{
  "nbformat": 4,
  "nbformat_minor": 0,
  "metadata": {
    "colab": {
      "name": "Lab2.ipynb",
      "provenance": [],
      "collapsed_sections": [],
      "authorship_tag": "ABX9TyOIS7Ft0MhOt/C5kgQ/invt",
      "include_colab_link": true
    },
    "kernelspec": {
      "name": "python3",
      "display_name": "Python 3"
    }
  },
  "cells": [
    {
      "cell_type": "markdown",
      "metadata": {
        "id": "view-in-github",
        "colab_type": "text"
      },
      "source": [
        "<a href=\"https://colab.research.google.com/github/kostas-gp/ce888/blob/master/lab2/Lab2.ipynb\" target=\"_parent\"><img src=\"https://colab.research.google.com/assets/colab-badge.svg\" alt=\"Open In Colab\"/></a>"
      ]
    },
    {
      "cell_type": "code",
      "metadata": {
        "id": "Vm8bGVwz5hSk",
        "colab_type": "code",
        "colab": {}
      },
      "source": [
        "import matplotlib\n",
        "import pandas as pd\n",
        "import seaborn as sns\n",
        "import numpy as np"
      ],
      "execution_count": 0,
      "outputs": []
    },
    {
      "cell_type": "code",
      "metadata": {
        "id": "uUfuPF5u68ad",
        "colab_type": "code",
        "outputId": "a93cae78-b11b-49ef-c309-64aeacb705d3",
        "colab": {
          "base_uri": "https://localhost:8080/",
          "height": 272
        }
      },
      "source": [
        "# Load the data\n",
        "df = pd.read_csv('https://raw.githubusercontent.com/albanda/CE888/master/lab2%20-%20bootstrap/customers.csv')\n",
        "data = df.values.T[1]\n",
        "print (df)"
      ],
      "execution_count": 16,
      "outputs": [
        {
          "output_type": "stream",
          "text": [
            "    Day   Millons of pounds in sales\n",
            "0     1                          2.0\n",
            "1     2                          8.0\n",
            "2     3                         20.0\n",
            "3     4                         13.0\n",
            "4     5                          5.0\n",
            "5     6                          9.0\n",
            "6     7                         10.0\n",
            "7     8                          8.0\n",
            "8     9                         22.0\n",
            "9    10                         10.0\n",
            "10   11                          2.0\n",
            "11   12                          4.0\n",
            "12   13                          7.0\n",
            "13   14                          9.0\n"
          ],
          "name": "stdout"
        }
      ]
    },
    {
      "cell_type": "code",
      "metadata": {
        "id": "RTAt4peX7Joe",
        "colab_type": "code",
        "outputId": "49dc0761-3453-4bd7-9c97-a4b0469618bc",
        "colab": {
          "base_uri": "https://localhost:8080/",
          "height": 136
        }
      },
      "source": [
        "#bootstrap function:\n",
        "# 1. Create an array of samples of shape (n_iterations, sample_size)\n",
        "num_samples = 1000\n",
        "resamples_array = np.random.randint(len(data),size=(num_samples,len(data)))\n",
        "print(resamples_array)\n"
      ],
      "execution_count": 31,
      "outputs": [
        {
          "output_type": "stream",
          "text": [
            "[[11  4  9 ...  2 11 10]\n",
            " [13  8  5 ...  8  5  5]\n",
            " [ 1  8  6 ...  4  1  3]\n",
            " ...\n",
            " [ 6 11  7 ...  4  6 13]\n",
            " [ 0  6  6 ...  6  7  9]\n",
            " [ 4  4  5 ...  4 13  7]]\n"
          ],
          "name": "stdout"
        }
      ]
    },
    {
      "cell_type": "code",
      "metadata": {
        "id": "iGreNfBgQAIH",
        "colab_type": "code",
        "outputId": "32788545-347a-422e-f878-3acedc0864a0",
        "colab": {
          "base_uri": "https://localhost:8080/",
          "height": 34
        }
      },
      "source": [
        "# 2. Calculate and save the mean of the array (this is \"data_mean\" that is returned by the function)\n",
        "x=resamples_array.mean()\n",
        "print(x)"
      ],
      "execution_count": 13,
      "outputs": [
        {
          "output_type": "stream",
          "text": [
            "9.200285714285714\n"
          ],
          "name": "stdout"
        }
      ]
    },
    {
      "cell_type": "code",
      "metadata": {
        "id": "QXmIthFJY74z",
        "colab_type": "code",
        "colab": {}
      },
      "source": [
        "#Get the data mean to that iteration \n",
        "iteration_mean=[]\n",
        "for x in resamples_array:\n",
        "    iteration_mean.append(x.mean())\n",
        "\n",
        "np_array = np.array(iteration_mean)  # transformed to a numpy array\n",
        "#print(np_array)"
      ],
      "execution_count": 0,
      "outputs": []
    },
    {
      "cell_type": "code",
      "metadata": {
        "id": "Gyd3PAqu7c2_",
        "colab_type": "code",
        "colab": {
          "base_uri": "https://localhost:8080/",
          "height": 51
        },
        "outputId": "76c3f2b2-e67a-4676-e975-7998f1254c66"
      },
      "source": [
        "#4. Calculate the lower and upper bounds for a 95% CI\n",
        "ordered = sorted(np_array)\n",
        "lower = np.percentile(ordered, (1-0.95)/2)\n",
        "upper = np.percentile(ordered, 0.95+((1-0.95)/2))\n",
        "print(lower)\n",
        "print(upper)\n",
        "\n"
      ],
      "execution_count": 63,
      "outputs": [
        {
          "output_type": "stream",
          "text": [
            "3.071285714285714\n",
            "3.910017857142857\n"
          ],
          "name": "stdout"
        }
      ]
    },
    {
      "cell_type": "code",
      "metadata": {
        "id": "9bRLvCkTAevn",
        "colab_type": "code",
        "colab": {}
      },
      "source": [
        "n_iterations = 100\n",
        "sample_size=len(data)\n",
        "def boostrap_mean(data, sample_size, n_iterations):\n",
        "  new_array = np.random.choice(sample_size,size=(n_iterations,sample_size),replace =True)\n",
        "  data_mean=np.mean(new_array)\n",
        "  list_of_means=[]\n",
        "  for item in new_array:\n",
        "    list_of_means.append(np.mean(item))\n",
        "  list_of_means_array=np.array(list_of_means)\n",
        "  ordered = sorted(list_of_means_array)\n",
        "  alpha=0.95\n",
        "  lower = np.percentile(ordered, ((1-alpha)/2) *100)\n",
        "  upper = np.percentile(ordered, (alpha+((1-alpha)/2)) *100)\n",
        "  return data_mean, lower, upper\n"
      ],
      "execution_count": 0,
      "outputs": []
    },
    {
      "cell_type": "code",
      "metadata": {
        "id": "wV-wNHNXJKf0",
        "colab_type": "code",
        "colab": {
          "base_uri": "https://localhost:8080/",
          "height": 369
        },
        "outputId": "ee116896-8cd3-4604-f669-72e02fde8df4"
      },
      "source": [
        "\n",
        "boots = []\n",
        "for i in range(100, 100000, 1000):\n",
        "    boot = boostrap_mean(data, data.shape[0], i)\n",
        "    boots.append([i, boot[0], \"mean\"])\n",
        "    boots.append([i, boot[1], \"lower\"])\n",
        "    boots.append([i, boot[2], \"upper\"])\n",
        "\n",
        "df_boot = pd.DataFrame(boots, columns=['Boostrap Iterations', 'Mean', \"Value\"])\n",
        "sns_plot = sns.lmplot(df_boot.columns[0], df_boot.columns[1], data=df_boot, fit_reg=False, hue=\"Value\")\n",
        "\n",
        "sns_plot.axes[0, 0].set_ylim(0,)\n",
        "sns_plot.axes[0, 0].set_xlim(0, 100000)\n",
        "\n",
        "sns_plot.savefig(\"bootstrap_confidence.png\", bbox_inches='tight')\n",
        "sns_plot.savefig(\"bootstrap_confidence.pdf\", bbox_inches='tight')"
      ],
      "execution_count": 89,
      "outputs": [
        {
          "output_type": "display_data",
          "data": {
            "image/png": "[encoded data removed]",
            "text/plain": [
              "<Figure size 425.125x360 with 1 Axes>"
            ]
          },
          "metadata": {
            "tags": []
          }
        }
      ]
    },
    {
      "cell_type": "code",
      "metadata": {
        "id": "Pm3PIUhMO0Sw",
        "colab_type": "code",
        "colab": {}
      },
      "source": [
        "n_iterations = 100\n",
        "sample_size=len(data)\n",
        "def boostrap_mean_ci(data, sample_size, n_iterations, ci):\n",
        "  new_array = np.random.randint(sample_size,size=(n_iterations,sample_size))\n",
        "  data_mean=np.mean(new_array)\n",
        "  list_of_means=[]\n",
        "  for item in new_array:\n",
        "    list_of_means.append(np.mean(item))\n",
        "  list_of_means_array=np.array(list_of_means)\n",
        "  ordered = sorted(list_of_means_array)\n",
        "  alpha=ci/100\n",
        "  lower = np.percentile(ordered, ((1-alpha)/2) *100)\n",
        "  upper = np.percentile(ordered,(alpha+((1-alpha)/2)) *100)\n",
        "  return data_mean, lower, upper"
      ],
      "execution_count": 0,
      "outputs": []
    },
    {
      "cell_type": "code",
      "metadata": {
        "id": "qmZrQI3iRN5S",
        "colab_type": "code",
        "colab": {
          "base_uri": "https://localhost:8080/",
          "height": 370
        },
        "outputId": "c8814e29-721e-474d-d51e-43f521b300b0"
      },
      "source": [
        "boots = []\n",
        "for i in range(100, 100000, 1000):\n",
        "    boot = boostrap_mean_ci(data, data.shape[0], i, 80)\n",
        "    boots.append([i, boot[0], \"mean\"])\n",
        "    boots.append([i, boot[1], \"lower\"])\n",
        "    boots.append([i, boot[2], \"upper\"])\n",
        "\n",
        "df_boot = pd.DataFrame(boots, columns=['Boostrap Iterations', 'Mean', \"Value\"])\n",
        "sns_plot = sns.lmplot(df_boot.columns[0], df_boot.columns[1], data=df_boot, fit_reg=False, hue=\"Value\")\n",
        "\n",
        "sns_plot.axes[0, 0].set_ylim(0,)\n",
        "sns_plot.axes[0, 0].set_xlim(0, 100000)\n",
        "\n",
        "sns_plot.savefig(\"bootstrap_confidence_80.png\", bbox_inches='tight')\n",
        "sns_plot.savefig(\"bootstrap_confidence_80.pdf\", bbox_inches='tight')"
      ],
      "execution_count": 92,
      "outputs": [
        {
          "output_type": "display_data",
          "data": {
            "image/png": "[encoded data removed]",
            "text/plain": [
              "<Figure size 425.125x360 with 1 Axes>"
            ]
          },
          "metadata": {
            "tags": []
          }
        }
      ]
    }
  ]
}